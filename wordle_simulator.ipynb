{
 "cells": [
  {
   "cell_type": "code",
   "execution_count": null,
   "metadata": {},
   "outputs": [],
   "source": [
    "print('helo world')\n",
    "\n",
    "# import random\n",
    "# from nltk.corpus import words\n",
    "\n",
    "# nltk.download()\n",
    "\n",
    "# class Wordle:\n",
    "\n",
    "#     def __init__(self, size=(5, 6)) -> None: \n",
    "\n",
    "\n",
    "#         word_list = words.words()\n",
    "#         all_words = [wl for wl in word_list if len(wl)==size[0]]\n",
    "#         self.goal_word = random.choices(population=all_words, k=1)\n",
    "\n",
    "#         self.box = [['']*size[0]]*size[1]\n",
    "#         self.scores = [[-1]*size[0]]*size[1]\n",
    "\n",
    "    \n",
    "        \n",
    "    \n",
    "\n"
   ]
  },
  {
   "cell_type": "code",
   "execution_count": null,
   "metadata": {},
   "outputs": [],
   "source": []
  }
 ],
 "metadata": {
  "kernelspec": {
   "display_name": "Python 3",
   "language": "python",
   "name": "python3"
  },
  "language_info": {
   "codemirror_mode": {
    "name": "ipython",
    "version": 3
   },
   "file_extension": ".py",
   "mimetype": "text/x-python",
   "name": "python",
   "nbconvert_exporter": "python",
   "pygments_lexer": "ipython3",
   "version": "3.7.11"
  }
 },
 "nbformat": 4,
 "nbformat_minor": 4
}
